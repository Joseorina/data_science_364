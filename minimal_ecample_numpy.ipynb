{
 "cells": [
  {
   "cell_type": "code",
   "execution_count": 10,
   "metadata": {},
   "outputs": [],
   "source": [
    "import numpy as np\n",
    "import matplotlib.pyplot as plt\n",
    "from mpl_toolkits.mplot3d import Axes3D"
   ]
  },
  {
   "cell_type": "markdown",
   "metadata": {},
   "source": [
    "### generate random inputs data to train on"
   ]
  },
  {
   "cell_type": "code",
   "execution_count": 11,
   "metadata": {},
   "outputs": [],
   "source": [
    "observations = 1000\n",
    "\n",
    "xs = np.random.uniform(-10, 10, (observations, 1))\n",
    "zs = np.random.uniform(-10, 10, (observations, 1))\n",
    "\n",
    "inputs = np.column_stack((xs, zs))"
   ]
  },
  {
   "cell_type": "code",
   "execution_count": 12,
   "metadata": {},
   "outputs": [
    {
     "name": "stdout",
     "output_type": "stream",
     "text": [
      "(1000, 2)\n"
     ]
    }
   ],
   "source": [
    "print(inputs.shape)"
   ]
  },
  {
   "cell_type": "markdown",
   "metadata": {},
   "source": [
    "### create targets we will aim at"
   ]
  },
  {
   "cell_type": "code",
   "execution_count": 13,
   "metadata": {},
   "outputs": [
    {
     "name": "stdout",
     "output_type": "stream",
     "text": [
      "(1000, 1)\n"
     ]
    }
   ],
   "source": [
    "noise = np.random.uniform(-1,1,(observations,1))\n",
    "\n",
    "targets = 2*xs - 3*zs + 5 +noise\n",
    "\n",
    "print(targets.shape)"
   ]
  },
  {
   "cell_type": "markdown",
   "metadata": {},
   "source": [
    " ###  plot the training data"
   ]
  },
  {
   "cell_type": "code",
   "execution_count": 14,
   "metadata": {},
   "outputs": [
    {
     "data": {
      "image/png": "[encoded data removed]",
      "text/plain": [
       "<Figure size 432x288 with 1 Axes>"
      ]
     },
     "metadata": {
      "needs_background": "light"
     },
     "output_type": "display_data"
    }
   ],
   "source": [
    "targets = targets.reshape(observations,)\n",
    "fig = plt.figure()\n",
    "ax = fig.add_subplot(111, projection='3d')\n",
    "ax.set_xlabel('xs')\n",
    "ax.set_ylabel('zs')\n",
    "ax.set_zlabel('Targets')\n",
    "ax.view_init(azim=100)\n",
    "plt.show()\n",
    "targets = targets.reshape(observations,1)"
   ]
  },
  {
   "cell_type": "code",
   "execution_count": 15,
   "metadata": {},
   "outputs": [
    {
     "name": "stdout",
     "output_type": "stream",
     "text": [
      "[[0.0645101 ]\n",
      " [0.05312086]]\n",
      "[0.0861552]\n"
     ]
    }
   ],
   "source": [
    "init_range = 0.1\n",
    "\n",
    "weights = np.random.uniform(-init_range, init_range, size=(2,1))\n",
    "\n",
    "biases = np.random.uniform(-init_range, init_range, size=1)\n",
    "\n",
    "print(weights)\n",
    "print(biases)"
   ]
  },
  {
   "cell_type": "markdown",
   "metadata": {},
   "source": [
    "### set a learning rate"
   ]
  },
  {
   "cell_type": "code",
   "execution_count": 16,
   "metadata": {},
   "outputs": [],
   "source": [
    "learning_rate = 0.02\n"
   ]
  },
  {
   "cell_type": "markdown",
   "metadata": {},
   "source": [
    "### train the model"
   ]
  },
  {
   "cell_type": "code",
   "execution_count": 20,
   "metadata": {},
   "outputs": [
    {
     "name": "stdout",
     "output_type": "stream",
     "text": [
      "480875.18440803664\n",
      "72202.06413592871\n",
      "27441.344524610497\n",
      "21837.305642162548\n",
      "20498.847258689275\n",
      "19653.139644090195\n",
      "18888.811095563306\n",
      "18159.80089757667\n",
      "17460.01034823833\n",
      "16787.771373536518\n",
      "16141.944063115745\n",
      "15521.484580385335\n",
      "14925.395800547452\n",
      "14352.720402470533\n",
      "13802.538738559882\n",
      "13273.967291489183\n",
      "12766.157247924037\n",
      "12278.29313460247\n",
      "11809.59150870163\n",
      "11359.299699725365\n",
      "10926.694600817471\n",
      "10511.081507551156\n",
      "10111.793002329036\n",
      "9728.187882602098\n",
      "9359.650131186329\n",
      "9005.587927023702\n",
      "8665.432694798737\n",
      "8338.638191884564\n",
      "8024.679631152239\n",
      "7723.052838234607\n",
      "7433.273441891461\n",
      "7154.876096175792\n",
      "6887.413733152061\n",
      "6630.456844966418\n",
      "6383.592794116065\n",
      "6146.425150810008\n",
      "5918.573056357234\n",
      "5699.670611559912\n",
      "5489.366289129476\n",
      "5287.322369182063\n",
      "5093.214396906693\n",
      "4906.730661535379\n",
      "4727.571695778414\n",
      "4555.449794920973\n",
      "4390.0885548088445\n",
      "4231.222427981276\n",
      "4078.5962972381803\n",
      "3931.9650659569356\n",
      "3791.093264500846\n",
      "3655.75467208719\n",
      "3525.7319535077113\n",
      "3400.8163101180844\n",
      "3280.807144535941\n",
      "3165.5117385090184\n",
      "3054.744943436065\n",
      "2948.3288830436068\n",
      "2846.0926677410657\n",
      "2747.872120195517\n",
      "2653.50951168542\n",
      "2562.853308809943\n",
      "2475.7579301471096\n",
      "2392.0835124700084\n",
      "2311.6956861456556\n",
      "2234.465359355787\n",
      "2160.268510793124\n",
      "2088.9859905001604\n",
      "2020.5033285306895\n",
      "1954.7105511267828\n",
      "1891.5020041160076\n",
      "1830.776183245343\n",
      "1772.4355711792614\n",
      "1716.3864809002855\n",
      "1662.5389052604799\n",
      "1610.8063724423307\n",
      "1561.1058070968654\n",
      "1513.3573969360534\n",
      "1467.4844645652083\n",
      "1423.4133443496269\n",
      "1381.07326411768\n",
      "1340.396231510419\n",
      "1301.31692479518\n",
      "1263.7725879678367\n",
      "1227.7029299752785\n",
      "1193.0500278962459\n",
      "1159.758233925071\n",
      "1127.7740860089318\n",
      "1097.0462219951435\n",
      "1067.5252971505752\n",
      "1039.1639049207856\n",
      "1011.9165008016045\n",
      "985.7393292008999\n",
      "960.5903531731171\n",
      "936.429186913695\n",
      "913.2170309050159\n",
      "890.9166096097013\n",
      "869.4921116112122\n",
      "848.9091321056347\n",
      "829.1346176522757\n",
      "810.1368130943838\n",
      "791.8852105647159\n"
     ]
    }
   ],
   "source": [
    "for i in range(100):\n",
    "    outputs = np.dot(inputs, weights) + biases\n",
    "    deltas = outputs - targets\n",
    "    \n",
    "    loss = np.sum(deltas ** 2)\n",
    "    \n",
    "    print(loss)\n",
    "    \n",
    "    deltas_scaled = deltas/observations\n",
    "    \n",
    "    weights = weights - learning_rate * np.dot(inputs.T, deltas_scaled)\n",
    "    biases = biases - learning_rate * np.sum(deltas_scaled)"
   ]
  },
  {
   "cell_type": "code",
   "execution_count": null,
   "metadata": {},
   "outputs": [],
   "source": []
  }
 ],
 "metadata": {
  "kernelspec": {
   "display_name": "Python 3",
   "language": "python",
   "name": "python3"
  },
  "language_info": {
   "codemirror_mode": {
    "name": "ipython",
    "version": 3
   },
   "file_extension": ".py",
   "mimetype": "text/x-python",
   "name": "python",
   "nbconvert_exporter": "python",
   "pygments_lexer": "ipython3",
   "version": "3.7.4"
  }
 },
 "nbformat": 4,
 "nbformat_minor": 2
}
